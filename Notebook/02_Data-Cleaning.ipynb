{
 "cells": [
  {
   "cell_type": "markdown",
   "id": "c0744236-b7cf-41a7-9fd6-87e02341eb35",
   "metadata": {},
   "source": [
    "# Data Cleaning & Preprocessing (MNIST Kaggle Dataset)\n",
    "\n",
    "In this notebook, we will:\n",
    "- Handle any missing values (if present)\n",
    "- Normalize pixel values to range [0,1]\n",
    "- Separate features and target variable\n",
    "- Reshape images for Deep Learning models (CNN or MLP)\n",
    "- Prepare data for training and testing\n",
    "\n",
    "This ensures the dataset is clean and ready for model training."
   ]
  },
  {
   "cell_type": "markdown",
   "id": "4aa03ca9-c7b5-4aaf-b28b-3a2055f47bbf",
   "metadata": {},
   "source": [
    "## Step 1: Set Project Root for Python Imports"
   ]
  },
  {
   "cell_type": "code",
   "execution_count": 1,
   "id": "bc7ff155-bba1-4834-b761-202be783149b",
   "metadata": {},
   "outputs": [],
   "source": [
    "import os \n",
    "import sys\n",
    "\n",
    "sys.path.append(os.path.abspath(\"..\"))"
   ]
  },
  {
   "cell_type": "markdown",
   "id": "5c013829-5b38-4550-baa7-9b5fdf88fb93",
   "metadata": {},
   "source": [
    "## Step 2: Load MNIST dataset\n",
    "We first load the MNIST Dataset into a Pandas DataFrame and preview the first 5 rows."
   ]
  },
  {
   "cell_type": "code",
   "execution_count": 2,
   "id": "7039fac4-aa07-4be2-92fa-43fba19b87f9",
   "metadata": {},
   "outputs": [
    {
     "name": "stdout",
     "output_type": "stream",
     "text": [
      "Train data loaded successfully \n",
      "     label  1x1  1x2  1x3  1x4  1x5  1x6  1x7  1x8  1x9  ...  28x19  28x20  \\\n",
      "0      5    0    0    0    0    0    0    0    0    0  ...      0      0   \n",
      "1      0    0    0    0    0    0    0    0    0    0  ...      0      0   \n",
      "2      4    0    0    0    0    0    0    0    0    0  ...      0      0   \n",
      "3      1    0    0    0    0    0    0    0    0    0  ...      0      0   \n",
      "4      9    0    0    0    0    0    0    0    0    0  ...      0      0   \n",
      "\n",
      "   28x21  28x22  28x23  28x24  28x25  28x26  28x27  28x28  \n",
      "0      0      0      0      0      0      0      0      0  \n",
      "1      0      0      0      0      0      0      0      0  \n",
      "2      0      0      0      0      0      0      0      0  \n",
      "3      0      0      0      0      0      0      0      0  \n",
      "4      0      0      0      0      0      0      0      0  \n",
      "\n",
      "[5 rows x 785 columns]\n"
     ]
    }
   ],
   "source": [
    "from src.data import (load_train_data,\n",
    "load_test_data,\n",
    "mis_val_train,\n",
    "mis_val_test,\n",
    ")\n",
    "\n",
    "df_train = load_train_data(r\"D:\\Thiru\\ML_Projects\\MNIST-Handwritten-Digit-Recognition\\Data\\raw\\mnist_train.csv\")\n",
    "df_test = load_test_data(r\"D:\\Thiru\\ML_Projects\\MNIST-Handwritten-Digit-Recognition\\Data\\raw\\mnist_test.csv\")"
   ]
  },
  {
   "cell_type": "markdown",
   "id": "a8733045-64ac-4aeb-b73b-6b5b93b6346a",
   "metadata": {},
   "source": [
    "## Step 3:Missing Values"
   ]
  },
  {
   "cell_type": "code",
   "execution_count": 3,
   "id": "564e2a73-273a-42a7-af85-7a324ce5de0f",
   "metadata": {},
   "outputs": [
    {
     "name": "stdout",
     "output_type": "stream",
     "text": [
      "[0, 0, 0, 0, 0, 0, 0, 0, 0, 0, 0, 0, 0, 0, 0, 0, 0, 0, 0, 0, 0, 0, 0, 0, 0, 0, 0, 0, 0, 0, 0, 0, 0, 0, 0, 0, 0, 0, 0, 0, 0, 0, 0, 0, 0, 0, 0, 0, 0, 0, 0, 0, 0, 0, 0, 0, 0, 0, 0, 0, 0, 0, 0, 0, 0, 0, 0, 0, 0, 0, 0, 0, 0, 0, 0, 0, 0, 0, 0, 0, 0, 0, 0, 0, 0, 0, 0, 0, 0, 0, 0, 0, 0, 0, 0, 0, 0, 0, 0, 0, 0, 0, 0, 0, 0, 0, 0, 0, 0, 0, 0, 0, 0, 0, 0, 0, 0, 0, 0, 0, 0, 0, 0, 0, 0, 0, 0, 0, 0, 0, 0, 0, 0, 0, 0, 0, 0, 0, 0, 0, 0, 0, 0, 0, 0, 0, 0, 0, 0, 0, 0, 0, 0, 0, 0, 0, 0, 0, 0, 0, 0, 0, 0, 0, 0, 0, 0, 0, 0, 0, 0, 0, 0, 0, 0, 0, 0, 0, 0, 0, 0, 0, 0, 0, 0, 0, 0, 0, 0, 0, 0, 0, 0, 0, 0, 0, 0, 0, 0, 0, 0, 0, 0, 0, 0, 0, 0, 0, 0, 0, 0, 0, 0, 0, 0, 0, 0, 0, 0, 0, 0, 0, 0, 0, 0, 0, 0, 0, 0, 0, 0, 0, 0, 0, 0, 0, 0, 0, 0, 0, 0, 0, 0, 0, 0, 0, 0, 0, 0, 0, 0, 0, 0, 0, 0, 0, 0, 0, 0, 0, 0, 0, 0, 0, 0, 0, 0, 0, 0, 0, 0, 0, 0, 0, 0, 0, 0, 0, 0, 0, 0, 0, 0, 0, 0, 0, 0, 0, 0, 0, 0, 0, 0, 0, 0, 0, 0, 0, 0, 0, 0, 0, 0, 0, 0, 0, 0, 0, 0, 0, 0, 0, 0, 0, 0, 0, 0, 0, 0, 0, 0, 0, 0, 0, 0, 0, 0, 0, 0, 0, 0, 0, 0, 0, 0, 0, 0, 0, 0, 0, 0, 0, 0, 0, 0, 0, 0, 0, 0, 0, 0, 0, 0, 0, 0, 0, 0, 0, 0, 0, 0, 0, 0, 0, 0, 0, 0, 0, 0, 0, 0, 0, 0, 0, 0, 0, 0, 0, 0, 0, 0, 0, 0, 0, 0, 0, 0, 0, 0, 0, 0, 0, 0, 0, 0, 0, 0, 0, 0, 0, 0, 0, 0, 0, 0, 0, 0, 0, 0, 0, 0, 0, 0, 0, 0, 0, 0, 0, 0, 0, 0, 0, 0, 0, 0, 0, 0, 0, 0, 0, 0, 0, 0, 0, 0, 0, 0, 0, 0, 0, 0, 0, 0, 0, 0, 0, 0, 0, 0, 0, 0, 0, 0, 0, 0, 0, 0, 0, 0, 0, 0, 0, 0, 0, 0, 0, 0, 0, 0, 0, 0, 0, 0, 0, 0, 0, 0, 0, 0, 0, 0, 0, 0, 0, 0, 0, 0, 0, 0, 0, 0, 0, 0, 0, 0, 0, 0, 0, 0, 0, 0, 0, 0, 0, 0, 0, 0, 0, 0, 0, 0, 0, 0, 0, 0, 0, 0, 0, 0, 0, 0, 0, 0, 0, 0, 0, 0, 0, 0, 0, 0, 0, 0, 0, 0, 0, 0, 0, 0, 0, 0, 0, 0, 0, 0, 0, 0, 0, 0, 0, 0, 0, 0, 0, 0, 0, 0, 0, 0, 0, 0, 0, 0, 0, 0, 0, 0, 0, 0, 0, 0, 0, 0, 0, 0, 0, 0, 0, 0, 0, 0, 0, 0, 0, 0, 0, 0, 0, 0, 0, 0, 0, 0, 0, 0, 0, 0, 0, 0, 0, 0, 0, 0, 0, 0, 0, 0, 0, 0, 0, 0, 0, 0, 0, 0, 0, 0, 0, 0, 0, 0, 0, 0, 0, 0, 0, 0, 0, 0, 0, 0, 0, 0, 0, 0, 0, 0, 0, 0, 0, 0, 0, 0, 0, 0, 0, 0, 0, 0, 0, 0, 0, 0, 0, 0, 0, 0, 0, 0, 0, 0, 0, 0, 0, 0, 0, 0, 0, 0, 0, 0, 0, 0, 0, 0, 0, 0, 0, 0, 0, 0, 0, 0, 0, 0, 0, 0, 0, 0, 0, 0, 0, 0, 0, 0, 0, 0, 0, 0, 0, 0, 0, 0, 0, 0, 0, 0, 0, 0, 0, 0, 0, 0, 0, 0, 0, 0, 0, 0, 0, 0, 0, 0, 0, 0, 0, 0, 0, 0, 0, 0, 0, 0, 0, 0, 0, 0, 0, 0, 0, 0, 0, 0, 0, 0, 0, 0, 0, 0, 0, 0, 0, 0, 0, 0, 0, 0, 0, 0, 0, 0, 0, 0, 0, 0, 0, 0, 0, 0, 0, 0, 0, 0, 0, 0, 0, 0, 0, 0, 0, 0, 0, 0, 0, 0]\n",
      "\n",
      "\n",
      "[0, 0, 0, 0, 0, 0, 0, 0, 0, 0, 0, 0, 0, 0, 0, 0, 0, 0, 0, 0, 0, 0, 0, 0, 0, 0, 0, 0, 0, 0, 0, 0, 0, 0, 0, 0, 0, 0, 0, 0, 0, 0, 0, 0, 0, 0, 0, 0, 0, 0, 0, 0, 0, 0, 0, 0, 0, 0, 0, 0, 0, 0, 0, 0, 0, 0, 0, 0, 0, 0, 0, 0, 0, 0, 0, 0, 0, 0, 0, 0, 0, 0, 0, 0, 0, 0, 0, 0, 0, 0, 0, 0, 0, 0, 0, 0, 0, 0, 0, 0, 0, 0, 0, 0, 0, 0, 0, 0, 0, 0, 0, 0, 0, 0, 0, 0, 0, 0, 0, 0, 0, 0, 0, 0, 0, 0, 0, 0, 0, 0, 0, 0, 0, 0, 0, 0, 0, 0, 0, 0, 0, 0, 0, 0, 0, 0, 0, 0, 0, 0, 0, 0, 0, 0, 0, 0, 0, 0, 0, 0, 0, 0, 0, 0, 0, 0, 0, 0, 0, 0, 0, 0, 0, 0, 0, 0, 0, 0, 0, 0, 0, 0, 0, 0, 0, 0, 0, 0, 0, 0, 0, 0, 0, 0, 0, 0, 0, 0, 0, 0, 0, 0, 0, 0, 0, 0, 0, 0, 0, 0, 0, 0, 0, 0, 0, 0, 0, 0, 0, 0, 0, 0, 0, 0, 0, 0, 0, 0, 0, 0, 0, 0, 0, 0, 0, 0, 0, 0, 0, 0, 0, 0, 0, 0, 0, 0, 0, 0, 0, 0, 0, 0, 0, 0, 0, 0, 0, 0, 0, 0, 0, 0, 0, 0, 0, 0, 0, 0, 0, 0, 0, 0, 0, 0, 0, 0, 0, 0, 0, 0, 0, 0, 0, 0, 0, 0, 0, 0, 0, 0, 0, 0, 0, 0, 0, 0, 0, 0, 0, 0, 0, 0, 0, 0, 0, 0, 0, 0, 0, 0, 0, 0, 0, 0, 0, 0, 0, 0, 0, 0, 0, 0, 0, 0, 0, 0, 0, 0, 0, 0, 0, 0, 0, 0, 0, 0, 0, 0, 0, 0, 0, 0, 0, 0, 0, 0, 0, 0, 0, 0, 0, 0, 0, 0, 0, 0, 0, 0, 0, 0, 0, 0, 0, 0, 0, 0, 0, 0, 0, 0, 0, 0, 0, 0, 0, 0, 0, 0, 0, 0, 0, 0, 0, 0, 0, 0, 0, 0, 0, 0, 0, 0, 0, 0, 0, 0, 0, 0, 0, 0, 0, 0, 0, 0, 0, 0, 0, 0, 0, 0, 0, 0, 0, 0, 0, 0, 0, 0, 0, 0, 0, 0, 0, 0, 0, 0, 0, 0, 0, 0, 0, 0, 0, 0, 0, 0, 0, 0, 0, 0, 0, 0, 0, 0, 0, 0, 0, 0, 0, 0, 0, 0, 0, 0, 0, 0, 0, 0, 0, 0, 0, 0, 0, 0, 0, 0, 0, 0, 0, 0, 0, 0, 0, 0, 0, 0, 0, 0, 0, 0, 0, 0, 0, 0, 0, 0, 0, 0, 0, 0, 0, 0, 0, 0, 0, 0, 0, 0, 0, 0, 0, 0, 0, 0, 0, 0, 0, 0, 0, 0, 0, 0, 0, 0, 0, 0, 0, 0, 0, 0, 0, 0, 0, 0, 0, 0, 0, 0, 0, 0, 0, 0, 0, 0, 0, 0, 0, 0, 0, 0, 0, 0, 0, 0, 0, 0, 0, 0, 0, 0, 0, 0, 0, 0, 0, 0, 0, 0, 0, 0, 0, 0, 0, 0, 0, 0, 0, 0, 0, 0, 0, 0, 0, 0, 0, 0, 0, 0, 0, 0, 0, 0, 0, 0, 0, 0, 0, 0, 0, 0, 0, 0, 0, 0, 0, 0, 0, 0, 0, 0, 0, 0, 0, 0, 0, 0, 0, 0, 0, 0, 0, 0, 0, 0, 0, 0, 0, 0, 0, 0, 0, 0, 0, 0, 0, 0, 0, 0, 0, 0, 0, 0, 0, 0, 0, 0, 0, 0, 0, 0, 0, 0, 0, 0, 0, 0, 0, 0, 0, 0, 0, 0, 0, 0, 0, 0, 0, 0, 0, 0, 0, 0, 0, 0, 0, 0, 0, 0, 0, 0, 0, 0, 0, 0, 0, 0, 0, 0, 0, 0, 0, 0, 0, 0, 0, 0, 0, 0, 0, 0, 0, 0, 0, 0, 0, 0, 0, 0, 0, 0, 0, 0, 0, 0, 0, 0, 0, 0, 0, 0, 0, 0, 0, 0, 0, 0, 0, 0, 0, 0, 0, 0, 0, 0, 0, 0, 0, 0, 0, 0, 0, 0, 0, 0, 0, 0, 0, 0, 0, 0, 0, 0, 0, 0, 0, 0, 0, 0, 0, 0, 0, 0, 0, 0, 0, 0, 0, 0, 0, 0, 0, 0, 0, 0, 0, 0, 0, 0, 0, 0, 0, 0, 0, 0, 0, 0, 0, 0, 0, 0, 0, 0, 0, 0, 0]\n"
     ]
    }
   ],
   "source": [
    "mis_val_train(df_train)\n",
    "print('\\n')\n",
    "mis_val_test(df_test)"
   ]
  },
  {
   "cell_type": "markdown",
   "id": "256645b5-99f8-4b18-9c77-b11b121883a4",
   "metadata": {},
   "source": [
    "### insights\n",
    " - No have missing values so doesn't need to Handling Miss_val"
   ]
  },
  {
   "cell_type": "markdown",
   "id": "89d4c5aa-3d5e-419c-b286-e377edc6c43c",
   "metadata": {},
   "source": [
    "## Step 4: Separate Features and Target"
   ]
  },
  {
   "cell_type": "code",
   "execution_count": 4,
   "id": "d81a9b2d-9d8f-419b-8221-b62f2dbed5d1",
   "metadata": {},
   "outputs": [],
   "source": [
    "from src.model import (\n",
    "split_x_y,\n",
    "normalize_data,\n",
    "reshape_for_cnn,\n",
    "encode_data,\n",
    "save_clean_data\n",
    ")\n",
    "\n",
    "X_train, Y_train, X_test, Y_test = split_x_y(df_train, df_test)"
   ]
  },
  {
   "cell_type": "markdown",
   "id": "a8236ef9-823d-410b-81c8-9980bd68c507",
   "metadata": {},
   "source": [
    "## Step 5: Normalize Pixel Values (0-255 -> 0-1)"
   ]
  },
  {
   "cell_type": "code",
   "execution_count": 5,
   "id": "37adce27-aea7-4851-b6cf-80040533726a",
   "metadata": {},
   "outputs": [],
   "source": [
    "X_train, X_test = normalize_data(X_train, X_test)"
   ]
  },
  {
   "cell_type": "markdown",
   "id": "72bfdbbd-b128-40d8-8f7a-2886c080bebc",
   "metadata": {},
   "source": [
    "## Step 6: Reshape for Deep Learning Models\n",
    " - For MLP: already flattened (shape: n_samples, 784)\n",
    " - For CNN: reshape to (n_samples, 28, 28, 1)"
   ]
  },
  {
   "cell_type": "code",
   "execution_count": 6,
   "id": "76d7e94a-82f0-431b-95c7-b9aa017c00c1",
   "metadata": {},
   "outputs": [],
   "source": [
    "X_train_cnn, X_test_cnn = reshape_for_cnn(X_train, X_test)"
   ]
  },
  {
   "cell_type": "markdown",
   "id": "7acc6164-5159-4359-8556-66e990489c1e",
   "metadata": {},
   "source": [
    "## Step 7: One-Hot Encode Target for CNN"
   ]
  },
  {
   "cell_type": "code",
   "execution_count": 7,
   "id": "6b676fb9-76b7-4305-9189-6f268309b3cb",
   "metadata": {},
   "outputs": [],
   "source": [
    "Y_train_cnn, Y_test_cnn = encode_data(Y_train, Y_test)"
   ]
  },
  {
   "cell_type": "markdown",
   "id": "8b6b80a6-4189-42a4-8004-d4c0511a65bc",
   "metadata": {},
   "source": [
    "## Step 8: Save the cleaning data"
   ]
  },
  {
   "cell_type": "code",
   "execution_count": 8,
   "id": "b2c2c243-0306-4e73-9ac0-b6dc9c341e68",
   "metadata": {},
   "outputs": [
    {
     "name": "stdout",
     "output_type": "stream",
     "text": [
      "✅ Saved X_train.npy  →  shape: (60000, 784)\n",
      "✅ Saved X_train_cnn.npy  →  shape: (60000, 28, 28, 1)\n",
      "✅ Saved Y_train.npy  →  shape: (60000,)\n",
      "✅ Saved Y_train_cnn.npy  →  shape: (60000, 10)\n",
      "✅ Saved X_test.npy  →  shape: (10000, 784)\n",
      "✅ Saved X_test_cnn.npy  →  shape: (10000, 28, 28, 1)\n",
      "✅ Saved Y_test.npy  →  shape: (10000,)\n",
      "✅ Saved Y_test_cnn.npy  →  shape: (10000, 10)\n",
      "\n",
      "All processed datasets saved in: D:\\Thiru\\ML_Projects\\MNIST-Handwritten-Digit-Recognition\\Data\\processed\n"
     ]
    }
   ],
   "source": [
    "save_dir = r\"D:\\Thiru\\ML_Projects\\MNIST-Handwritten-Digit-Recognition\\Data\\processed\"\n",
    "\n",
    "data_dict = {\n",
    "    \"X_train\": X_train,\n",
    "    \"X_train_cnn\": X_train_cnn,\n",
    "    \"Y_train\": Y_train,\n",
    "    \"Y_train_cnn\": Y_train_cnn,\n",
    "    \"X_test\": X_test,\n",
    "    \"X_test_cnn\": X_test_cnn,\n",
    "    \"Y_test\": Y_test,\n",
    "    \"Y_test_cnn\": Y_test_cnn\n",
    "}\n",
    "\n",
    "save_clean_data(save_dir, data_dict)"
   ]
  },
  {
   "cell_type": "markdown",
   "id": "782eb0a4-66a9-4fc0-a37c-4932def9b97a",
   "metadata": {},
   "source": [
    "## Data-Cleaning Summary\n",
    " -Checked for missing values: none found.\n",
    " - Features normalized to range [0,1].\n",
    " - Training features shape for MLP: (60000, 784)\n",
    " - Training features shape for CNN: (60000, 28, 28, 1)\n",
    " - Target variable 'label' one-hot encoded for CNN: (60000, 10)\n",
    " - Data is now ready for model training."
   ]
  }
 ],
 "metadata": {
  "kernelspec": {
   "display_name": "Python (ML Environment)",
   "language": "python",
   "name": "ml-env"
  },
  "language_info": {
   "codemirror_mode": {
    "name": "ipython",
    "version": 3
   },
   "file_extension": ".py",
   "mimetype": "text/x-python",
   "name": "python",
   "nbconvert_exporter": "python",
   "pygments_lexer": "ipython3",
   "version": "3.9.6"
  }
 },
 "nbformat": 4,
 "nbformat_minor": 5
}
