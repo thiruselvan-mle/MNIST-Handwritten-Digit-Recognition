{
 "cells": [
  {
   "cell_type": "markdown",
   "id": "a6972e9e-497d-4dde-9f39-70ef29c8e6a8",
   "metadata": {},
   "source": [
    "# Model Training  (MNIST Handwritten Digit Dataset)\n",
    "\n",
    "In this notebook, we will:\n",
    "- Load the processed data\n",
    "- Split dataset into training and validation sets\n",
    "- Train two models:\n",
    "    1. MLP (Multi-Layer Perceptron)\n",
    "    2. CNN (Convolutional Neural Network)\n",
    "- Compare training performance and accuracy\n",
    "\n",
    "This helps us understand how different neural architectures perform on the MNIST dataset."
   ]
  },
  {
   "cell_type": "markdown",
   "id": "be4298b3-9d83-4c76-8401-aa8de0fccd80",
   "metadata": {},
   "source": [
    "## Step 1: Set Project Root for Python Imports"
   ]
  },
  {
   "cell_type": "code",
   "execution_count": 1,
   "id": "37b94f8f-2485-4d3e-82bd-9d89e53642bf",
   "metadata": {},
   "outputs": [],
   "source": [
    "import os \n",
    "import sys\n",
    "\n",
    "sys.path.append(os.path.abspath(\"..\"))"
   ]
  },
  {
   "cell_type": "markdown",
   "id": "fa109977-8709-40c0-9274-d369be9c5aee",
   "metadata": {},
   "source": [
    "## Step 2: Load MNIST processed dataset"
   ]
  },
  {
   "cell_type": "code",
   "execution_count": 2,
   "id": "36b77dec-e90d-479e-b554-c762a87ccd97",
   "metadata": {},
   "outputs": [],
   "source": [
    "from src.model import (\n",
    "load_numpy_data,\n",
    "train_val_split,\n",
    "mlp_train,\n",
    "cnn_train,\n",
    "compare_model_accu,\n",
    "save_model\n",
    ")\n",
    "\n",
    "X_train = load_numpy_data(r\"D:\\Thiru\\ML_Projects\\MNIST-Handwritten-Digit-Recognition\\Data\\processed\\X_train.npy\")\n",
    "Y_train = load_numpy_data(r\"D:\\Thiru\\ML_Projects\\MNIST-Handwritten-Digit-Recognition\\Data\\processed\\Y_train.npy\")\n",
    "X_train_cnn = load_numpy_data(r\"D:\\Thiru\\ML_Projects\\MNIST-Handwritten-Digit-Recognition\\Data\\processed\\X_train_cnn.npy\")\n",
    "Y_train_cnn = load_numpy_data(r\"D:\\Thiru\\ML_Projects\\MNIST-Handwritten-Digit-Recognition\\Data\\processed\\Y_train_cnn.npy\")"
   ]
  },
  {
   "cell_type": "markdown",
   "id": "75345ce7-3cc1-4267-86ce-efb1633b1ffd",
   "metadata": {},
   "source": [
    "## Step 3: Split Data into Train and Validation Sets"
   ]
  },
  {
   "cell_type": "code",
   "execution_count": 3,
   "id": "8436406e-dd4c-4cb5-9f23-8143f6868bc8",
   "metadata": {},
   "outputs": [],
   "source": [
    "X_train_mlp, X_val_mlp, y_train_mlp, y_val_mlp, \\\n",
    "X_train_cnn, X_val_cnn, y_train_cnn, y_val_cnn = train_val_split(X_train, Y_train, X_train_cnn, Y_train_cnn)"
   ]
  },
  {
   "cell_type": "markdown",
   "id": "5d3bc050-8417-47a8-8b31-95fbe21ece5e",
   "metadata": {},
   "source": [
    "## Step 4: Train the MLP (Multi-Layer Perceptron) model"
   ]
  },
  {
   "cell_type": "code",
   "execution_count": 4,
   "id": "6ee195bd-d39e-4525-8e9a-04a8ed4572f4",
   "metadata": {},
   "outputs": [
    {
     "name": "stdout",
     "output_type": "stream",
     "text": [
      "Epoch 1/10\n",
      "\u001b[1m375/375\u001b[0m \u001b[32m━━━━━━━━━━━━━━━━━━━━\u001b[0m\u001b[37m\u001b[0m \u001b[1m6s\u001b[0m 10ms/step - accuracy: 0.7994 - loss: 0.6592 - val_accuracy: 0.9569 - val_loss: 0.1491\n",
      "Epoch 2/10\n",
      "\u001b[1m375/375\u001b[0m \u001b[32m━━━━━━━━━━━━━━━━━━━━\u001b[0m\u001b[37m\u001b[0m \u001b[1m4s\u001b[0m 9ms/step - accuracy: 0.9510 - loss: 0.1646 - val_accuracy: 0.9667 - val_loss: 0.1106\n",
      "Epoch 3/10\n",
      "\u001b[1m375/375\u001b[0m \u001b[32m━━━━━━━━━━━━━━━━━━━━\u001b[0m\u001b[37m\u001b[0m \u001b[1m3s\u001b[0m 8ms/step - accuracy: 0.9643 - loss: 0.1153 - val_accuracy: 0.9748 - val_loss: 0.0859\n",
      "Epoch 4/10\n",
      "\u001b[1m375/375\u001b[0m \u001b[32m━━━━━━━━━━━━━━━━━━━━\u001b[0m\u001b[37m\u001b[0m \u001b[1m2s\u001b[0m 6ms/step - accuracy: 0.9714 - loss: 0.0921 - val_accuracy: 0.9732 - val_loss: 0.0849\n",
      "Epoch 5/10\n",
      "\u001b[1m375/375\u001b[0m \u001b[32m━━━━━━━━━━━━━━━━━━━━\u001b[0m\u001b[37m\u001b[0m \u001b[1m2s\u001b[0m 6ms/step - accuracy: 0.9756 - loss: 0.0743 - val_accuracy: 0.9790 - val_loss: 0.0736\n",
      "Epoch 6/10\n",
      "\u001b[1m375/375\u001b[0m \u001b[32m━━━━━━━━━━━━━━━━━━━━\u001b[0m\u001b[37m\u001b[0m \u001b[1m2s\u001b[0m 6ms/step - accuracy: 0.9809 - loss: 0.0611 - val_accuracy: 0.9789 - val_loss: 0.0732\n",
      "Epoch 7/10\n",
      "\u001b[1m375/375\u001b[0m \u001b[32m━━━━━━━━━━━━━━━━━━━━\u001b[0m\u001b[37m\u001b[0m \u001b[1m2s\u001b[0m 6ms/step - accuracy: 0.9828 - loss: 0.0543 - val_accuracy: 0.9801 - val_loss: 0.0692\n",
      "Epoch 8/10\n",
      "\u001b[1m375/375\u001b[0m \u001b[32m━━━━━━━━━━━━━━━━━━━━\u001b[0m\u001b[37m\u001b[0m \u001b[1m2s\u001b[0m 6ms/step - accuracy: 0.9856 - loss: 0.0453 - val_accuracy: 0.9799 - val_loss: 0.0695\n",
      "Epoch 9/10\n",
      "\u001b[1m375/375\u001b[0m \u001b[32m━━━━━━━━━━━━━━━━━━━━\u001b[0m\u001b[37m\u001b[0m \u001b[1m3s\u001b[0m 7ms/step - accuracy: 0.9871 - loss: 0.0403 - val_accuracy: 0.9806 - val_loss: 0.0738\n",
      "Epoch 10/10\n",
      "\u001b[1m375/375\u001b[0m \u001b[32m━━━━━━━━━━━━━━━━━━━━\u001b[0m\u001b[37m\u001b[0m \u001b[1m2s\u001b[0m 6ms/step - accuracy: 0.9896 - loss: 0.0337 - val_accuracy: 0.9803 - val_loss: 0.0739\n"
     ]
    }
   ],
   "source": [
    "mlp_model, mlp_history = mlp_train(X_train_mlp, y_train_mlp, X_val_mlp, y_val_mlp)"
   ]
  },
  {
   "cell_type": "markdown",
   "id": "ede562a6-bf98-4052-87bd-96f66317cdb2",
   "metadata": {},
   "source": [
    "### Insight:\n",
    " - MLP achieved high accuracy (~97–98%) even without CNN layers.\n",
    " - It performs well because MNIST digits are simple and low-resolution images.\n",
    " - However, MLP doesn't capture spatial patterns as effectively as CNN."
   ]
  },
  {
   "cell_type": "markdown",
   "id": "8443c15a-6004-4df7-b35e-1ae7598b7ae9",
   "metadata": {},
   "source": [
    "## Step 5: Train the CNN (Convolutional Neural Network) model"
   ]
  },
  {
   "cell_type": "code",
   "execution_count": 5,
   "id": "ee816523-1807-4f9c-ac18-9272024d0c76",
   "metadata": {},
   "outputs": [
    {
     "name": "stdout",
     "output_type": "stream",
     "text": [
      "Epoch 1/10\n",
      "\u001b[1m375/375\u001b[0m \u001b[32m━━━━━━━━━━━━━━━━━━━━\u001b[0m\u001b[37m\u001b[0m \u001b[1m13s\u001b[0m 30ms/step - accuracy: 0.8035 - loss: 0.6313 - val_accuracy: 0.9775 - val_loss: 0.0730\n",
      "Epoch 2/10\n",
      "\u001b[1m375/375\u001b[0m \u001b[32m━━━━━━━━━━━━━━━━━━━━\u001b[0m\u001b[37m\u001b[0m \u001b[1m11s\u001b[0m 29ms/step - accuracy: 0.9743 - loss: 0.0852 - val_accuracy: 0.9854 - val_loss: 0.0490\n",
      "Epoch 3/10\n",
      "\u001b[1m375/375\u001b[0m \u001b[32m━━━━━━━━━━━━━━━━━━━━\u001b[0m\u001b[37m\u001b[0m \u001b[1m11s\u001b[0m 29ms/step - accuracy: 0.9802 - loss: 0.0625 - val_accuracy: 0.9886 - val_loss: 0.0403\n",
      "Epoch 4/10\n",
      "\u001b[1m375/375\u001b[0m \u001b[32m━━━━━━━━━━━━━━━━━━━━\u001b[0m\u001b[37m\u001b[0m \u001b[1m11s\u001b[0m 30ms/step - accuracy: 0.9851 - loss: 0.0454 - val_accuracy: 0.9883 - val_loss: 0.0412\n",
      "Epoch 5/10\n",
      "\u001b[1m375/375\u001b[0m \u001b[32m━━━━━━━━━━━━━━━━━━━━\u001b[0m\u001b[37m\u001b[0m \u001b[1m11s\u001b[0m 30ms/step - accuracy: 0.9890 - loss: 0.0387 - val_accuracy: 0.9876 - val_loss: 0.0401\n",
      "Epoch 6/10\n",
      "\u001b[1m375/375\u001b[0m \u001b[32m━━━━━━━━━━━━━━━━━━━━\u001b[0m\u001b[37m\u001b[0m \u001b[1m11s\u001b[0m 29ms/step - accuracy: 0.9913 - loss: 0.0291 - val_accuracy: 0.9902 - val_loss: 0.0354\n",
      "Epoch 7/10\n",
      "\u001b[1m375/375\u001b[0m \u001b[32m━━━━━━━━━━━━━━━━━━━━\u001b[0m\u001b[37m\u001b[0m \u001b[1m11s\u001b[0m 29ms/step - accuracy: 0.9908 - loss: 0.0277 - val_accuracy: 0.9912 - val_loss: 0.0322\n",
      "Epoch 8/10\n",
      "\u001b[1m375/375\u001b[0m \u001b[32m━━━━━━━━━━━━━━━━━━━━\u001b[0m\u001b[37m\u001b[0m \u001b[1m11s\u001b[0m 30ms/step - accuracy: 0.9934 - loss: 0.0202 - val_accuracy: 0.9908 - val_loss: 0.0313\n",
      "Epoch 9/10\n",
      "\u001b[1m375/375\u001b[0m \u001b[32m━━━━━━━━━━━━━━━━━━━━\u001b[0m\u001b[37m\u001b[0m \u001b[1m11s\u001b[0m 28ms/step - accuracy: 0.9935 - loss: 0.0203 - val_accuracy: 0.9914 - val_loss: 0.0305\n",
      "Epoch 10/10\n",
      "\u001b[1m375/375\u001b[0m \u001b[32m━━━━━━━━━━━━━━━━━━━━\u001b[0m\u001b[37m\u001b[0m \u001b[1m7s\u001b[0m 19ms/step - accuracy: 0.9953 - loss: 0.0150 - val_accuracy: 0.9912 - val_loss: 0.0346\n"
     ]
    }
   ],
   "source": [
    "cnn_model, cnn_history  = cnn_train(X_train_cnn, y_train_cnn, X_val_cnn, y_val_cnn)"
   ]
  },
  {
   "cell_type": "markdown",
   "id": "fdd46310-c69d-4f4d-ba85-3ef453387185",
   "metadata": {},
   "source": [
    "### Insight:\n",
    " - CNN captures local spatial features (edges, curves) better than MLP.\n",
    " - Expected accuracy: ~99%+ on validation set.\n",
    " - CNN learns patterns like strokes and digit shapes — more robust for real-world images."
   ]
  },
  {
   "cell_type": "markdown",
   "id": "58b51a7f-0fe4-4ff1-af7e-f99e2b1da666",
   "metadata": {},
   "source": [
    "## Step 6: Compare Model Accuracies"
   ]
  },
  {
   "cell_type": "code",
   "execution_count": 6,
   "id": "db8cc16a-f5a5-4a17-a699-7f1b8853a637",
   "metadata": {},
   "outputs": [
    {
     "data": {
      "image/png": "[encoded data removed]",
      "text/plain": [
       "<Figure size 1000x400 with 2 Axes>"
      ]
     },
     "metadata": {},
     "output_type": "display_data"
    }
   ],
   "source": [
    "compare_model_accu(mlp_history, cnn_history)"
   ]
  },
  {
   "cell_type": "markdown",
   "id": "5546b71a-2239-48cf-a3e9-a4f499c03ded",
   "metadata": {},
   "source": [
    "### Insight:\n",
    " - CNN shows higher accuracy and less overfitting compared to MLP.\n",
    " - MLP slightly fluctuates on validation accuracy due to lack of spatial awareness.\n",
    " - CNN generalizes better, especially for more complex handwritten variations."
   ]
  },
  {
   "cell_type": "markdown",
   "id": "b9c8be98-d01f-43fa-bef4-489ee854e188",
   "metadata": {},
   "source": [
    "## Step 7: save the Model"
   ]
  },
  {
   "cell_type": "code",
   "execution_count": 7,
   "id": "3f6e154c-6a1c-4acf-88f9-1b93837e9621",
   "metadata": {},
   "outputs": [
    {
     "name": "stdout",
     "output_type": "stream",
     "text": [
      "Model Successfully Saved\n",
      "Model Successfully Saved\n"
     ]
    }
   ],
   "source": [
    "path = r\"D:\\Thiru\\ML_Projects\\MNIST-Handwritten-Digit-Recognition\\models\"\n",
    "\n",
    "save_model(mlp_model, path, \"mlp_model.keras\")\n",
    "save_model(cnn_model, path, \"cnn_model.keras\")"
   ]
  },
  {
   "cell_type": "markdown",
   "id": "4454ca56-6b21-43ff-827b-4da913af7eab",
   "metadata": {},
   "source": [
    "## Model Training Summary\n",
    "\n",
    " - MLP achieved ~97–98% validation accuracy, good baseline.\n",
    " - CNN achieved ~99% validation accuracy, superior due to spatial feature learning.\n",
    " - Both models converge well with minimal overfitting.\n",
    " - Next: Evaluate models on unseen test data in 05-model-evaluation.ipynb."
   ]
  }
 ],
 "metadata": {
  "kernelspec": {
   "display_name": "Python (ML Environment)",
   "language": "python",
   "name": "ml-env"
  },
  "language_info": {
   "codemirror_mode": {
    "name": "ipython",
    "version": 3
   },
   "file_extension": ".py",
   "mimetype": "text/x-python",
   "name": "python",
   "nbconvert_exporter": "python",
   "pygments_lexer": "ipython3",
   "version": "3.9.6"
  }
 },
 "nbformat": 4,
 "nbformat_minor": 5
}
